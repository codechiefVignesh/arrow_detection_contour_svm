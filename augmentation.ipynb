{
 "cells": [
  {
   "cell_type": "code",
   "execution_count": 9,
   "id": "12504808-e7bf-4b49-8146-bbf3fe4fe7bc",
   "metadata": {},
   "outputs": [],
   "source": [
    "import shutil\n",
    "import os\n",
    "\n",
    "def duplicate_image(input_image_path, output_directory, num_duplicates):\n",
    "    # Ensure the output directory exists\n",
    "    os.makedirs(output_directory, exist_ok=True)\n",
    "\n",
    "    # Get the file name and extension\n",
    "    file_name, file_extension = os.path.splitext(os.path.basename(input_image_path))\n",
    "\n",
    "    # Iterate to create duplicates\n",
    "    for i in range(num_duplicates):\n",
    "        # Construct the output file path for each duplicate\n",
    "        duplicated_image_path = os.path.join(output_directory, f'duplicated_{i + 1}_{file_name}{file_extension}')\n",
    "\n",
    "        # Copy the original image to create a duplicate\n",
    "        shutil.copyfile(input_image_path, duplicated_image_path)\n",
    "\n",
    "if __name__ == \"__main__\":\n",
    "    # Specify the path to the original image file\n",
    "    original_image_path = \"/home/vignesh/Pictures/right_arrow/right_800.png\"\n",
    "\n",
    "    # Specify the path to the directory where duplicated images will be saved\n",
    "    duplicated_images_dir = \"/home/vignesh/Pictures/right_arrow\"\n",
    "\n",
    "    # Number of duplicates to create for the image\n",
    "    num_duplicates = 200\n",
    "\n",
    "    # Call the function to duplicate the image\n",
    "    duplicate_image(original_image_path, duplicated_images_dir, num_duplicates)\n"
   ]
  },
  {
   "cell_type": "code",
   "execution_count": null,
   "id": "235f7c50-1875-49e9-af32-20873c02c458",
   "metadata": {},
   "outputs": [],
   "source": []
  }
 ],
 "metadata": {
  "kernelspec": {
   "display_name": "Python 3 (ipykernel)",
   "language": "python",
   "name": "python3"
  },
  "language_info": {
   "codemirror_mode": {
    "name": "ipython",
    "version": 3
   },
   "file_extension": ".py",
   "mimetype": "text/x-python",
   "name": "python",
   "nbconvert_exporter": "python",
   "pygments_lexer": "ipython3",
   "version": "3.8.10"
  }
 },
 "nbformat": 4,
 "nbformat_minor": 5
}
