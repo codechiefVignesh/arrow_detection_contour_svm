{
 "cells": [
  {
   "cell_type": "code",
   "execution_count": 1,
   "id": "e4a9044d-4889-4e8f-8d60-08850bbd7391",
   "metadata": {},
   "outputs": [
    {
     "name": "stdout",
     "output_type": "stream",
     "text": [
      "Accuracy: 1.0\n"
     ]
    },
    {
     "data": {
      "text/plain": [
       "['svm_model.pkl']"
      ]
     },
     "execution_count": 1,
     "metadata": {},
     "output_type": "execute_result"
    }
   ],
   "source": [
    "import cv2\n",
    "import numpy as np\n",
    "from sklearn import svm\n",
    "from sklearn.model_selection import train_test_split\n",
    "from sklearn.metrics import accuracy_score\n",
    "import joblib  # For older scikit-learn versions\n",
    "\n",
    "# Load your images and preprocess them\n",
    "# Replace \"path/to/your/images\" with the actual path to your images\n",
    "images_up = [cv2.imread(\"/home/vignesh/Pictures/up_arrow/up_{}.png\".format(i)) for i in range(1, 202)]\n",
    "images_down = [cv2.imread(\"/home/vignesh/Pictures/down_arrow/down_{}.png\".format(i)) for i in range(1, 202)]\n",
    "images_right = [cv2.imread(\"/home/vignesh/Pictures/left_arrow/left_{}.png\".format(i)) for i in range(1, 202)]\n",
    "images_left = [cv2.imread(\"/home/vignesh/Pictures/right_arrow/right_{}.png\".format(i)) for i in range(1, 202)]\n",
    "\n",
    "# Assuming all images have the same size, adjust this based on your dataset\n",
    "image_size = (225, 225)\n",
    "\n",
    "# Resize images and convert to grayscale\n",
    "images_up = [cv2.resize(cv2.cvtColor(img, cv2.COLOR_BGR2GRAY), image_size) for img in images_up]\n",
    "images_down = [cv2.resize(cv2.cvtColor(img, cv2.COLOR_BGR2GRAY), image_size) for img in images_down]\n",
    "images_right = [cv2.resize(cv2.cvtColor(img, cv2.COLOR_BGR2GRAY), image_size) for img in images_right]\n",
    "images_left = [cv2.resize(cv2.cvtColor(img, cv2.COLOR_BGR2GRAY), image_size) for img in images_left]\n",
    "\n",
    "# Create feature matrix X and label vector y\n",
    "X = np.vstack([\n",
    "    img.flatten() for img_list in [images_up, images_down, images_right, images_left]\n",
    "    for img in img_list\n",
    "])\n",
    "y = np.array(['up'] * 201 + ['down'] * 201 + ['right'] * 201 + ['left'] * 201)\n",
    "\n",
    "# Split the dataset into training and testing sets\n",
    "X_train, X_test, y_train, y_test = train_test_split(X, y, test_size=0.2, random_state=42)\n",
    "\n",
    "# Create an SVM classifier\n",
    "svm_classifier = svm.SVC(kernel='rbf')\n",
    "\n",
    "# Train the classifier\n",
    "svm_classifier.fit(X_train, y_train)\n",
    "\n",
    "# Make predictions on the test set\n",
    "y_pred = svm_classifier.predict(X_test)\n",
    "\n",
    "# Evaluate the accuracy\n",
    "accuracy = accuracy_score(y_test, y_pred)\n",
    "print(\"Accuracy:\", accuracy)\n",
    "\n",
    "# Save the trained SVM model to a file\n",
    "model_filename = \"svm_model.pkl\"\n",
    "joblib.dump(svm_classifier, model_filename)\n"
   ]
  },
  {
   "cell_type": "code",
   "execution_count": null,
   "id": "d42cd307-b431-4fb0-b483-4205aa52afea",
   "metadata": {},
   "outputs": [],
   "source": []
  }
 ],
 "metadata": {
  "kernelspec": {
   "display_name": "Python 3 (ipykernel)",
   "language": "python",
   "name": "python3"
  },
  "language_info": {
   "codemirror_mode": {
    "name": "ipython",
    "version": 3
   },
   "file_extension": ".py",
   "mimetype": "text/x-python",
   "name": "python",
   "nbconvert_exporter": "python",
   "pygments_lexer": "ipython3",
   "version": "3.8.10"
  }
 },
 "nbformat": 4,
 "nbformat_minor": 5
}
