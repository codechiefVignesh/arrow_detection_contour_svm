{
 "cells": [
  {
   "cell_type": "code",
   "execution_count": 32,
   "id": "85a3bbac-b2ab-434a-b540-f699cc5d2e05",
   "metadata": {},
   "outputs": [],
   "source": [
    "import os\n",
    "\n",
    "def rename_files(directory_path, new_prefix):\n",
    "    # List all files in the directory\n",
    "    files = os.listdir(directory_path)\n",
    "\n",
    "    # Iterate through each file and rename it\n",
    "    for index, file_name in enumerate(files):\n",
    "        # Generate the new file name with the desired prefix\n",
    "        new_name = f\"{new_prefix}_{index + 1}.png\"\n",
    "\n",
    "        # Construct the full paths for the old and new names\n",
    "        old_path = os.path.join(directory_path, file_name)\n",
    "        new_path = os.path.join(directory_path, new_name)\n",
    "\n",
    "        # Rename the file\n",
    "        os.rename(old_path, new_path)\n",
    "\n",
    "if __name__ == \"__main__\":\n",
    "    # Specify the directory path and the new prefix\n",
    "    directory_path = \"/home/vignesh/Pictures/right_arrow/\"\n",
    "    new_prefix = \"right\"\n",
    "\n",
    "    # Call the function to rename files\n",
    "    rename_files(directory_path, new_prefix)\n"
   ]
  },
  {
   "cell_type": "code",
   "execution_count": null,
   "id": "20ca2c09-4125-4b8a-8652-dbeb89f34257",
   "metadata": {},
   "outputs": [],
   "source": []
  }
 ],
 "metadata": {
  "kernelspec": {
   "display_name": "Python 3 (ipykernel)",
   "language": "python",
   "name": "python3"
  },
  "language_info": {
   "codemirror_mode": {
    "name": "ipython",
    "version": 3
   },
   "file_extension": ".py",
   "mimetype": "text/x-python",
   "name": "python",
   "nbconvert_exporter": "python",
   "pygments_lexer": "ipython3",
   "version": "3.8.10"
  }
 },
 "nbformat": 4,
 "nbformat_minor": 5
}
